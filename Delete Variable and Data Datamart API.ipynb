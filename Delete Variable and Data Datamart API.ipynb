{
 "cells": [
  {
   "cell_type": "code",
   "execution_count": 1,
   "metadata": {},
   "outputs": [],
   "source": [
    "# Datamart server running on localhost in development mode\n",
    "datamart_api_url = 'http://localhost:12543'"
   ]
  },
  {
   "cell_type": "code",
   "execution_count": 2,
   "metadata": {},
   "outputs": [],
   "source": [
    "import os\n",
    "import json\n",
    "import pandas as pd\n",
    "from io import StringIO\n",
    "from IPython.display import display, HTML\n",
    "from requests import get,post,put,delete"
   ]
  },
  {
   "cell_type": "code",
   "execution_count": 9,
   "metadata": {},
   "outputs": [],
   "source": [
    "def upload_data_put(file_path, url):\n",
    "    file_name = os.path.basename(file_path)\n",
    "    files = {\n",
    "        'file': (file_name, open(file_path, mode='rb'), 'application/octet-stream')\n",
    "    }\n",
    "    response = put(url, files=files)\n",
    "\n",
    "    print(json.dumps(response.json(), indent=2))"
   ]
  },
  {
   "cell_type": "markdown",
   "metadata": {},
   "source": [
    "### Create a Test Dataset to be deleted later"
   ]
  },
  {
   "cell_type": "markdown",
   "metadata": {},
   "source": [
    "**POST `/metadata/datasets`**"
   ]
  },
  {
   "cell_type": "code",
   "execution_count": 5,
   "metadata": {},
   "outputs": [],
   "source": [
    "# Define a new dataset\n",
    "test_dataset = {\n",
    "    \"name\": \"delete-test\",\n",
    "    \"dataset_id\": \"delete-test\",\n",
    "    \"description\": \"will be deleted\",\n",
    "    \"url\": \"http://test01.com/test\"\n",
    "}"
   ]
  },
  {
   "cell_type": "code",
   "execution_count": 6,
   "metadata": {},
   "outputs": [
    {
     "name": "stdout",
     "output_type": "stream",
     "text": [
      "{\n",
      "  \"name\": \"delete-test\",\n",
      "  \"description\": \"will be deleted\",\n",
      "  \"url\": \"http://test01.com/test\",\n",
      "  \"dataset_id\": \"delete-test\"\n",
      "}\n"
     ]
    }
   ],
   "source": [
    "td_response = post(f'{datamart_api_url}/metadata/datasets', json=test_dataset)\n",
    "print(json.dumps(td_response.json(), indent=2))"
   ]
  },
  {
   "cell_type": "markdown",
   "metadata": {},
   "source": [
    "### Upload an annotated file to the dataset"
   ]
  },
  {
   "cell_type": "markdown",
   "metadata": {},
   "source": [
    "**PUT `/datasets/{dataset_id}/annotated`**"
   ]
  },
  {
   "cell_type": "code",
   "execution_count": 10,
   "metadata": {},
   "outputs": [
    {
     "name": "stdout",
     "output_type": "stream",
     "text": [
      "[\n",
      "  {\n",
      "    \"name\": \"UN workers\",\n",
      "    \"variable_id\": \"un\",\n",
      "    \"dataset_id\": \"delete-test\",\n",
      "    \"description\": \"number of UN workers affected\",\n",
      "    \"corresponds_to_property\": \"PVARIABLE-Qdelete-test-003\",\n",
      "    \"qualifier\": [\n",
      "      {\n",
      "        \"name\": \"located in the administrative territorial entity\",\n",
      "        \"identifier\": \"P131\"\n",
      "      },\n",
      "      {\n",
      "        \"name\": \"stated in\",\n",
      "        \"identifier\": \"P248\"\n",
      "      },\n",
      "      {\n",
      "        \"name\": \"point in time\",\n",
      "        \"identifier\": \"P585\"\n",
      "      }\n",
      "    ]\n",
      "  },\n",
      "  {\n",
      "    \"name\": \"International NGO\",\n",
      "    \"variable_id\": \"ingo\",\n",
      "    \"dataset_id\": \"delete-test\",\n",
      "    \"description\": \"number of NGO workers affected\",\n",
      "    \"corresponds_to_property\": \"PVARIABLE-Qdelete-test-004\",\n",
      "    \"qualifier\": [\n",
      "      {\n",
      "        \"name\": \"located in the administrative territorial entity\",\n",
      "        \"identifier\": \"P131\"\n",
      "      },\n",
      "      {\n",
      "        \"name\": \"stated in\",\n",
      "        \"identifier\": \"P248\"\n",
      "      },\n",
      "      {\n",
      "        \"name\": \"point in time\",\n",
      "        \"identifier\": \"P585\"\n",
      "      }\n",
      "    ]\n",
      "  }\n",
      "]\n"
     ]
    }
   ],
   "source": [
    "url = f'{datamart_api_url}/datasets/delete-test/annotated'\n",
    "file_path = 'test/test_data/04_worker_incidents_delete_test.xlsx'\n",
    "upload_data_put(file_path, url)"
   ]
  },
  {
   "cell_type": "markdown",
   "metadata": {},
   "source": [
    "### Variables in the dataset `delete-test`"
   ]
  },
  {
   "cell_type": "markdown",
   "metadata": {},
   "source": [
    "**GET `/metadata/datasets/{dataset_id}/variables`**"
   ]
  },
  {
   "cell_type": "code",
   "execution_count": 11,
   "metadata": {},
   "outputs": [
    {
     "name": "stdout",
     "output_type": "stream",
     "text": [
      "[\n",
      "  {\n",
      "    \"name\": \"International NGO\",\n",
      "    \"variable_id\": \"ingo\",\n",
      "    \"description\": \"number of NGO workers affected\",\n",
      "    \"corresponds_to_property\": \"PVARIABLE-Qdelete-test-004\",\n",
      "    \"qualifier\": [\n",
      "      {\n",
      "        \"name\": \"located in the administrative territorial entity\",\n",
      "        \"identifier\": \"P131\"\n",
      "      },\n",
      "      {\n",
      "        \"name\": \"stated in\",\n",
      "        \"identifier\": \"P248\"\n",
      "      },\n",
      "      {\n",
      "        \"name\": \"point in time\",\n",
      "        \"identifier\": \"P585\"\n",
      "      }\n",
      "    ]\n",
      "  },\n",
      "  {\n",
      "    \"name\": \"UN workers\",\n",
      "    \"variable_id\": \"un\",\n",
      "    \"description\": \"number of UN workers affected\",\n",
      "    \"corresponds_to_property\": \"PVARIABLE-Qdelete-test-003\",\n",
      "    \"qualifier\": [\n",
      "      {\n",
      "        \"name\": \"located in the administrative territorial entity\",\n",
      "        \"identifier\": \"P131\"\n",
      "      },\n",
      "      {\n",
      "        \"name\": \"stated in\",\n",
      "        \"identifier\": \"P248\"\n",
      "      },\n",
      "      {\n",
      "        \"name\": \"point in time\",\n",
      "        \"identifier\": \"P585\"\n",
      "      }\n",
      "    ]\n",
      "  }\n",
      "]\n"
     ]
    }
   ],
   "source": [
    "response = get(f'{datamart_api_url}/metadata/datasets/delete-test/variables')\n",
    "print(json.dumps(response.json(), indent=2))\n"
   ]
  },
  {
   "cell_type": "markdown",
   "metadata": {},
   "source": [
    "### Get Data in variables `un` and `ingo` in the dataset `delete-test`"
   ]
  },
  {
   "cell_type": "markdown",
   "metadata": {},
   "source": [
    "**GET `/datasets/{dataset_id}/variables/{variable_id}`**"
   ]
  },
  {
   "cell_type": "code",
   "execution_count": 13,
   "metadata": {},
   "outputs": [
    {
     "data": {
      "text/html": [
       "<table border=\"1\" class=\"dataframe\">\n",
       "  <thead>\n",
       "    <tr style=\"text-align: right;\">\n",
       "      <th>dataset_id</th>\n",
       "      <th>variable_id</th>\n",
       "      <th>variable</th>\n",
       "      <th>main_subject</th>\n",
       "      <th>main_subject_id</th>\n",
       "      <th>value</th>\n",
       "      <th>value_unit</th>\n",
       "      <th>time</th>\n",
       "      <th>time_precision</th>\n",
       "      <th>country</th>\n",
       "      <th>admin1</th>\n",
       "      <th>admin2</th>\n",
       "      <th>admin3</th>\n",
       "      <th>region_coordinate</th>\n",
       "      <th>stated_in</th>\n",
       "      <th>stated_in_id</th>\n",
       "      <th>located in the administrative territorial entity</th>\n",
       "      <th>stated in</th>\n",
       "    </tr>\n",
       "  </thead>\n",
       "  <tbody>\n",
       "    <tr>\n",
       "      <td>delete-test</td>\n",
       "      <td>un</td>\n",
       "      <td>UN workers</td>\n",
       "      <td>Incident ID 103</td>\n",
       "      <td>QQdelete_test_Incident_ID_103</td>\n",
       "      <td>0.0</td>\n",
       "      <td>count</td>\n",
       "      <td>2000-02-04T00:00:00Z</td>\n",
       "      <td></td>\n",
       "      <td></td>\n",
       "      <td></td>\n",
       "      <td></td>\n",
       "      <td></td>\n",
       "      <td></td>\n",
       "      <td></td>\n",
       "      <td></td>\n",
       "      <td>Ethiopia</td>\n",
       "      <td></td>\n",
       "    </tr>\n",
       "    <tr>\n",
       "      <td>delete-test</td>\n",
       "      <td>un</td>\n",
       "      <td>UN workers</td>\n",
       "      <td>Incident ID 1060</td>\n",
       "      <td>QQdelete_test_Incident_ID_1060</td>\n",
       "      <td>1.0</td>\n",
       "      <td>count</td>\n",
       "      <td>2010-06-18T00:00:00Z</td>\n",
       "      <td></td>\n",
       "      <td></td>\n",
       "      <td></td>\n",
       "      <td></td>\n",
       "      <td></td>\n",
       "      <td></td>\n",
       "      <td></td>\n",
       "      <td></td>\n",
       "      <td>Ethiopia</td>\n",
       "      <td></td>\n",
       "    </tr>\n",
       "    <tr>\n",
       "      <td>delete-test</td>\n",
       "      <td>un</td>\n",
       "      <td>UN workers</td>\n",
       "      <td>Incident ID 1069</td>\n",
       "      <td>QQdelete_test_Incident_ID_1069</td>\n",
       "      <td>2.0</td>\n",
       "      <td>count</td>\n",
       "      <td>2010-03-23T00:00:00Z</td>\n",
       "      <td></td>\n",
       "      <td></td>\n",
       "      <td></td>\n",
       "      <td></td>\n",
       "      <td></td>\n",
       "      <td></td>\n",
       "      <td></td>\n",
       "      <td></td>\n",
       "      <td>Ethiopia</td>\n",
       "      <td></td>\n",
       "    </tr>\n",
       "    <tr>\n",
       "      <td>delete-test</td>\n",
       "      <td>un</td>\n",
       "      <td>UN workers</td>\n",
       "      <td>Incident ID 1102</td>\n",
       "      <td>QQdelete_test_Incident_ID_1102</td>\n",
       "      <td>4.0</td>\n",
       "      <td>count</td>\n",
       "      <td>2011-05-13T00:00:00Z</td>\n",
       "      <td></td>\n",
       "      <td></td>\n",
       "      <td></td>\n",
       "      <td></td>\n",
       "      <td></td>\n",
       "      <td></td>\n",
       "      <td></td>\n",
       "      <td></td>\n",
       "      <td>Ethiopia</td>\n",
       "      <td></td>\n",
       "    </tr>\n",
       "    <tr>\n",
       "      <td>delete-test</td>\n",
       "      <td>un</td>\n",
       "      <td>UN workers</td>\n",
       "      <td>Incident ID 1281</td>\n",
       "      <td>QQdelete_test_Incident_ID_1281</td>\n",
       "      <td>1.0</td>\n",
       "      <td>count</td>\n",
       "      <td>2011-08-05T00:00:00Z</td>\n",
       "      <td></td>\n",
       "      <td></td>\n",
       "      <td></td>\n",
       "      <td></td>\n",
       "      <td></td>\n",
       "      <td></td>\n",
       "      <td></td>\n",
       "      <td></td>\n",
       "      <td>Ethiopia</td>\n",
       "      <td></td>\n",
       "    </tr>\n",
       "  </tbody>\n",
       "</table>"
      ],
      "text/plain": [
       "<IPython.core.display.HTML object>"
      ]
     },
     "metadata": {},
     "output_type": "display_data"
    }
   ],
   "source": [
    "response = get(f'{datamart_api_url}/datasets/delete-test/variables/un')\n",
    "df = pd.read_csv(StringIO(response.text))\n",
    "display(HTML(df.fillna('').head().to_html(index=False)))"
   ]
  },
  {
   "cell_type": "code",
   "execution_count": 14,
   "metadata": {},
   "outputs": [
    {
     "data": {
      "text/html": [
       "<table border=\"1\" class=\"dataframe\">\n",
       "  <thead>\n",
       "    <tr style=\"text-align: right;\">\n",
       "      <th>dataset_id</th>\n",
       "      <th>variable_id</th>\n",
       "      <th>variable</th>\n",
       "      <th>main_subject</th>\n",
       "      <th>main_subject_id</th>\n",
       "      <th>value</th>\n",
       "      <th>value_unit</th>\n",
       "      <th>time</th>\n",
       "      <th>time_precision</th>\n",
       "      <th>country</th>\n",
       "      <th>admin1</th>\n",
       "      <th>admin2</th>\n",
       "      <th>admin3</th>\n",
       "      <th>region_coordinate</th>\n",
       "      <th>stated_in</th>\n",
       "      <th>stated_in_id</th>\n",
       "      <th>located in the administrative territorial entity</th>\n",
       "      <th>stated in</th>\n",
       "    </tr>\n",
       "  </thead>\n",
       "  <tbody>\n",
       "    <tr>\n",
       "      <td>delete-test</td>\n",
       "      <td>ingo</td>\n",
       "      <td>International NGO</td>\n",
       "      <td>Incident ID 103</td>\n",
       "      <td>QQdelete_test_Incident_ID_103</td>\n",
       "      <td>2.0</td>\n",
       "      <td>count</td>\n",
       "      <td>2000-02-04T00:00:00Z</td>\n",
       "      <td></td>\n",
       "      <td></td>\n",
       "      <td></td>\n",
       "      <td></td>\n",
       "      <td></td>\n",
       "      <td></td>\n",
       "      <td></td>\n",
       "      <td></td>\n",
       "      <td>Ethiopia</td>\n",
       "      <td></td>\n",
       "    </tr>\n",
       "    <tr>\n",
       "      <td>delete-test</td>\n",
       "      <td>ingo</td>\n",
       "      <td>International NGO</td>\n",
       "      <td>Incident ID 1060</td>\n",
       "      <td>QQdelete_test_Incident_ID_1060</td>\n",
       "      <td>0.0</td>\n",
       "      <td>count</td>\n",
       "      <td>2010-06-18T00:00:00Z</td>\n",
       "      <td></td>\n",
       "      <td></td>\n",
       "      <td></td>\n",
       "      <td></td>\n",
       "      <td></td>\n",
       "      <td></td>\n",
       "      <td></td>\n",
       "      <td></td>\n",
       "      <td>Ethiopia</td>\n",
       "      <td></td>\n",
       "    </tr>\n",
       "    <tr>\n",
       "      <td>delete-test</td>\n",
       "      <td>ingo</td>\n",
       "      <td>International NGO</td>\n",
       "      <td>Incident ID 1069</td>\n",
       "      <td>QQdelete_test_Incident_ID_1069</td>\n",
       "      <td>0.0</td>\n",
       "      <td>count</td>\n",
       "      <td>2010-03-23T00:00:00Z</td>\n",
       "      <td></td>\n",
       "      <td></td>\n",
       "      <td></td>\n",
       "      <td></td>\n",
       "      <td></td>\n",
       "      <td></td>\n",
       "      <td></td>\n",
       "      <td></td>\n",
       "      <td>Ethiopia</td>\n",
       "      <td></td>\n",
       "    </tr>\n",
       "    <tr>\n",
       "      <td>delete-test</td>\n",
       "      <td>ingo</td>\n",
       "      <td>International NGO</td>\n",
       "      <td>Incident ID 1102</td>\n",
       "      <td>QQdelete_test_Incident_ID_1102</td>\n",
       "      <td>0.0</td>\n",
       "      <td>count</td>\n",
       "      <td>2011-05-13T00:00:00Z</td>\n",
       "      <td></td>\n",
       "      <td></td>\n",
       "      <td></td>\n",
       "      <td></td>\n",
       "      <td></td>\n",
       "      <td></td>\n",
       "      <td></td>\n",
       "      <td></td>\n",
       "      <td>Ethiopia</td>\n",
       "      <td></td>\n",
       "    </tr>\n",
       "    <tr>\n",
       "      <td>delete-test</td>\n",
       "      <td>ingo</td>\n",
       "      <td>International NGO</td>\n",
       "      <td>Incident ID 1281</td>\n",
       "      <td>QQdelete_test_Incident_ID_1281</td>\n",
       "      <td>0.0</td>\n",
       "      <td>count</td>\n",
       "      <td>2011-08-05T00:00:00Z</td>\n",
       "      <td></td>\n",
       "      <td></td>\n",
       "      <td></td>\n",
       "      <td></td>\n",
       "      <td></td>\n",
       "      <td></td>\n",
       "      <td></td>\n",
       "      <td></td>\n",
       "      <td>Ethiopia</td>\n",
       "      <td></td>\n",
       "    </tr>\n",
       "  </tbody>\n",
       "</table>"
      ],
      "text/plain": [
       "<IPython.core.display.HTML object>"
      ]
     },
     "metadata": {},
     "output_type": "display_data"
    }
   ],
   "source": [
    "response = get(f'{datamart_api_url}/datasets/delete-test/variables/ingo')\n",
    "df = pd.read_csv(StringIO(response.text))\n",
    "display(HTML(df.fillna('').head().to_html(index=False)))"
   ]
  },
  {
   "cell_type": "markdown",
   "metadata": {},
   "source": [
    "### Delete data for variable `un` in the dataset `delete-test`"
   ]
  },
  {
   "cell_type": "markdown",
   "metadata": {},
   "source": [
    "**DELETE `/datasets/{dataset_id}/variables/{variable_id}`**"
   ]
  },
  {
   "cell_type": "code",
   "execution_count": 17,
   "metadata": {},
   "outputs": [
    {
     "name": "stdout",
     "output_type": "stream",
     "text": [
      "{\n",
      "  \"Message\": \"Canonical data for Variable: un in Dataset: delete-test is deleted.\"\n",
      "}\n"
     ]
    }
   ],
   "source": [
    "response = delete(f'{datamart_api_url}/datasets/delete-test/variables/un')\n",
    "print(json.dumps(response.json(), indent=2))"
   ]
  },
  {
   "cell_type": "markdown",
   "metadata": {},
   "source": [
    "#### Is it really deleted though ?"
   ]
  },
  {
   "cell_type": "code",
   "execution_count": 18,
   "metadata": {},
   "outputs": [
    {
     "data": {
      "text/html": [
       "<table border=\"1\" class=\"dataframe\">\n",
       "  <thead>\n",
       "    <tr style=\"text-align: right;\">\n",
       "      <th>dataset_id</th>\n",
       "      <th>variable_id</th>\n",
       "      <th>variable</th>\n",
       "      <th>main_subject</th>\n",
       "      <th>main_subject_id</th>\n",
       "      <th>value</th>\n",
       "      <th>value_unit</th>\n",
       "      <th>time</th>\n",
       "      <th>time_precision</th>\n",
       "      <th>country</th>\n",
       "      <th>admin1</th>\n",
       "      <th>admin2</th>\n",
       "      <th>admin3</th>\n",
       "      <th>region_coordinate</th>\n",
       "      <th>stated_in</th>\n",
       "      <th>stated_in_id</th>\n",
       "      <th>located in the administrative territorial entity</th>\n",
       "      <th>stated in</th>\n",
       "    </tr>\n",
       "  </thead>\n",
       "  <tbody>\n",
       "  </tbody>\n",
       "</table>"
      ],
      "text/plain": [
       "<IPython.core.display.HTML object>"
      ]
     },
     "metadata": {},
     "output_type": "display_data"
    }
   ],
   "source": [
    "response = get(f'{datamart_api_url}/datasets/delete-test/variables/un')\n",
    "df = pd.read_csv(StringIO(response.text))\n",
    "display(HTML(df.fillna('').head().to_html(index=False)))"
   ]
  },
  {
   "cell_type": "markdown",
   "metadata": {},
   "source": [
    "Of course it is!\n",
    "\n",
    "**This API will only delete the canonical data associated with the variable. The metadata for the variable still exists.**"
   ]
  },
  {
   "cell_type": "markdown",
   "metadata": {},
   "source": [
    "### Delete variable `un` in the dataset `delete-test`"
   ]
  },
  {
   "cell_type": "markdown",
   "metadata": {},
   "source": [
    "**DELETE `/metadata/datasets/{dataset_id}/variables/{variable_id}`**"
   ]
  },
  {
   "cell_type": "code",
   "execution_count": 20,
   "metadata": {},
   "outputs": [
    {
     "name": "stdout",
     "output_type": "stream",
     "text": [
      "{\n",
      "  \"Message\": \"Successfully deleted ['un'] in the dataset: delete-test.\"\n",
      "}\n"
     ]
    }
   ],
   "source": [
    "response = delete(f'{datamart_api_url}/metadata/datasets/delete-test/variables/un')\n",
    "print(json.dumps(response.json(), indent=2))"
   ]
  },
  {
   "cell_type": "markdown",
   "metadata": {},
   "source": [
    "### Delete variable `ingo` in the dataset `delete-test`"
   ]
  },
  {
   "cell_type": "markdown",
   "metadata": {},
   "source": [
    "**DELETE `/metadata/datasets/{dataset_id}/variables/{variable_id}`**"
   ]
  },
  {
   "cell_type": "code",
   "execution_count": 21,
   "metadata": {},
   "outputs": [
    {
     "name": "stdout",
     "output_type": "stream",
     "text": [
      "{\n",
      "  \"Error\": \"Please delete all variable data before deleting metadata\"\n",
      "}\n"
     ]
    }
   ],
   "source": [
    "response = delete(f'{datamart_api_url}/metadata/datasets/delete-test/variables/ingo')\n",
    "print(json.dumps(response.json(), indent=2))"
   ]
  },
  {
   "cell_type": "markdown",
   "metadata": {},
   "source": [
    "The variable `ingo` cannot be deleted because it still has canonical data associated with it. Failsafe to accidently delete a variable if it still has data.\n",
    "\n",
    "Delete the data first and then delete the variable."
   ]
  },
  {
   "cell_type": "markdown",
   "metadata": {},
   "source": [
    "### Delete dataset `delete-test`"
   ]
  },
  {
   "cell_type": "markdown",
   "metadata": {},
   "source": [
    "**DELETE `/metadata/datasets/{dataset_id}`**"
   ]
  },
  {
   "cell_type": "code",
   "execution_count": 23,
   "metadata": {},
   "outputs": [
    {
     "name": "stdout",
     "output_type": "stream",
     "text": [
      "{\n",
      "  \"Error\": \"Dataset delete-test is not empty\"\n",
      "}\n"
     ]
    }
   ],
   "source": [
    "response = delete(f'{datamart_api_url}/metadata/datasets/delete-test')\n",
    "print(json.dumps(response.json(), indent=2))"
   ]
  },
  {
   "cell_type": "markdown",
   "metadata": {},
   "source": [
    "You'll see an error message: `Dataset delete-test is not empty`. This is because there is still a variable `ingo` present and it has data associated with it.\n",
    "\n",
    "A dataset can only be deleted if, it has no variables in it.\n",
    "\n",
    "To delete the dataset `delete-me`, there are now two options:\n",
    "1. First delete data and then metadata for variable `ingo` and then delete dataset `delete-test`\n",
    "or \n",
    "2. Force delete the dataset. Invoking this option will,\n",
    "\n",
    "  a. delete all the data associated with all the variables in the dataset\n",
    "  \n",
    "  b. delete metadata for all variables in the dataset\n",
    "  \n",
    "  c. delete the dataset"
   ]
  },
  {
   "cell_type": "markdown",
   "metadata": {},
   "source": [
    "**DELETE `/metadata/datasets/{dataset_id}?force=true`**"
   ]
  },
  {
   "cell_type": "code",
   "execution_count": 26,
   "metadata": {},
   "outputs": [
    {
     "name": "stdout",
     "output_type": "stream",
     "text": [
      "{\n",
      "  \"Message\": \"Dataset delete-test deleted\"\n",
      "}\n"
     ]
    }
   ],
   "source": [
    "response = delete(f'{datamart_api_url}/metadata/datasets/delete-test?force=true')\n",
    "print(json.dumps(response.json(), indent=2))"
   ]
  },
  {
   "cell_type": "code",
   "execution_count": null,
   "metadata": {},
   "outputs": [],
   "source": []
  }
 ],
 "metadata": {
  "kernelspec": {
   "display_name": "datamart_env",
   "language": "python",
   "name": "datamart_env"
  },
  "language_info": {
   "codemirror_mode": {
    "name": "ipython",
    "version": 3
   },
   "file_extension": ".py",
   "mimetype": "text/x-python",
   "name": "python",
   "nbconvert_exporter": "python",
   "pygments_lexer": "ipython3",
   "version": "3.6.6"
  }
 },
 "nbformat": 4,
 "nbformat_minor": 4
}
