{
 "cells": [
  {
   "cell_type": "markdown",
   "metadata": {},
   "source": [
    "# This is a demo on how to upload \\*.csv and \\*.xlsx to Datamart"
   ]
  },
  {
   "cell_type": "markdown",
   "metadata": {},
   "source": [
    "## Parameters\n",
    "\n",
    "Users will be able to inject their parameters through commandline. Currently the following parameters are supported:"
   ]
  },
  {
   "cell_type": "code",
   "execution_count": null,
   "metadata": {
    "tags": [
     "parameters"
    ]
   },
   "outputs": [],
   "source": [
    "# Parameters to be injected\n",
    "\n",
    "# Required Parameters\n",
    "datamart_api_url = None\n",
    "template_path = None\n",
    "\n",
    "dataset_path = None\n",
    "annotated_path = None\n",
    "\n",
    "# Optional Parameters\n",
    "dataset_id = None\n",
    "save_template_path = None\n",
    "dataset_id_to_erase = None\n",
    "flag_combine_files = False\n",
    "DEBUG = False"
   ]
  },
  {
   "cell_type": "markdown",
   "metadata": {},
   "source": [
    "## Import python modules and utilities"
   ]
  },
  {
   "cell_type": "code",
   "execution_count": null,
   "metadata": {},
   "outputs": [],
   "source": [
    "from utils import spreadsheet, utility, upload, erase, template, test\n",
    "%matplotlib inline"
   ]
  },
  {
   "cell_type": "markdown",
   "metadata": {},
   "source": [
    "### Delete a dataset if needed"
   ]
  },
  {
   "cell_type": "code",
   "execution_count": null,
   "metadata": {},
   "outputs": [],
   "source": [
    "if dataset_id_to_erase:\n",
    "    erase.erase_dataset(datamart_api_url, dataset_id_to_erase)"
   ]
  },
  {
   "cell_type": "markdown",
   "metadata": {},
   "source": [
    "### Build the annotated sheet, and POST it to Datamart"
   ]
  },
  {
   "cell_type": "code",
   "execution_count": null,
   "metadata": {},
   "outputs": [],
   "source": [
    "nfiles, nsheets = 0, 0\n",
    "if template_path and dataset_path:\n",
    "    if dataset_id is None:\n",
    "        dataset_id = utility.read_tsv(template_path).iat[0,1]\n",
    "\n",
    "    nfiles, nsheets = upload.submit_sheet_bulk(datamart_api_url, template_path, dataset_path, flag_combine_files)"
   ]
  },
  {
   "cell_type": "code",
   "execution_count": null,
   "metadata": {},
   "outputs": [],
   "source": [
    "if annotated_path:\n",
    "    if upload.submit_annotated_sheet(datamart_api_url, annotated_path, put_data=False):\n",
    "        nsheets += 1"
   ]
  },
  {
   "cell_type": "code",
   "execution_count": null,
   "metadata": {},
   "outputs": [],
   "source": [
    "print(f'{nfiles} files processed.')\n",
    "print(f'{nsheets} sheets uploaded.')"
   ]
  },
  {
   "cell_type": "markdown",
   "metadata": {},
   "source": [
    "### If needed, save the template"
   ]
  },
  {
   "cell_type": "code",
   "execution_count": null,
   "metadata": {},
   "outputs": [],
   "source": [
    "if not save_template_path is None:\n",
    "    template.save_annotation_template(utility.read_tsv(template_path), save_template_path)"
   ]
  },
  {
   "cell_type": "markdown",
   "metadata": {},
   "source": [
    "### Visualization to check errors"
   ]
  },
  {
   "cell_type": "code",
   "execution_count": null,
   "metadata": {},
   "outputs": [],
   "source": [
    "if nsheets > 0 and DEBUG:\n",
    "    test.visualize(datamart_api_url, dataset_id)"
   ]
  }
 ],
 "metadata": {
  "celltoolbar": "Tags",
  "kernelspec": {
   "display_name": "Python 3",
   "language": "python",
   "name": "python3"
  },
  "language_info": {
   "codemirror_mode": {
    "name": "ipython",
    "version": 3
   },
   "file_extension": ".py",
   "mimetype": "text/x-python",
   "name": "python",
   "nbconvert_exporter": "python",
   "pygments_lexer": "ipython3",
   "version": "3.7.9"
  }
 },
 "nbformat": 4,
 "nbformat_minor": 4
}
